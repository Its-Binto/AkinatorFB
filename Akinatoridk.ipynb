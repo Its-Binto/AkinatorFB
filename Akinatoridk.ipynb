{
  "nbformat": 4,
  "nbformat_minor": 0,
  "metadata": {
    "colab": {
      "provenance": [],
      "authorship_tag": "ABX9TyPnrilVuHUOmVRjqWGvUsZa",
      "include_colab_link": true
    },
    "kernelspec": {
      "name": "python3",
      "display_name": "Python 3"
    },
    "language_info": {
      "name": "python"
    }
  },
  "cells": [
    {
      "cell_type": "markdown",
      "metadata": {
        "id": "view-in-github",
        "colab_type": "text"
      },
      "source": [
        "<a href=\"https://colab.research.google.com/github/Its-Binto/AkinatorFB/blob/main/Akinatoridk.ipynb\" target=\"_parent\"><img src=\"https://colab.research.google.com/assets/colab-badge.svg\" alt=\"Open In Colab\"/></a>"
      ]
    },
    {
      "cell_type": "code",
      "execution_count": null,
      "metadata": {
        "colab": {
          "base_uri": "https://localhost:8080/"
        },
        "id": "FhEZ3IftpKk1",
        "outputId": "942272cd-8905-40aa-f834-834997e79a96"
      },
      "outputs": [
        {
          "output_type": "stream",
          "name": "stdout",
          "text": [
            "              Name     Nation             Club Position  Age Preferred foot  \\\n",
            "0    Kylian Mbappé     France         Paris SG       ST   24          Right   \n",
            "1   Erling Haaland     Norway  Manchester City       ST   23           Left   \n",
            "2  Kevin De Bruyne    Belgium  Manchester City       CM   32          Right   \n",
            "3     Lionel Messi  Argentina   Inter Miami CF       CF   36           Left   \n",
            "4    Karim Benzema     France       Al Ittihad       CF   35          Right   \n",
            "\n",
            "  Gender  \n",
            "0      M  \n",
            "1      M  \n",
            "2      M  \n",
            "3      M  \n",
            "4      M  \n"
          ]
        }
      ],
      "source": [
        "import pandas as pd\n",
        "\n",
        "# Load your full dataset\n",
        "file_path = '/content/all_players.csv'\n",
        "full_dataset = pd.read_csv(file_path)\n",
        "\n",
        "# Select only the essential columns\n",
        "essential_columns = ['Name', 'Nation', 'Club', 'Position', 'Age', 'Preferred foot', 'Gender']\n",
        "essential_dataset = full_dataset[essential_columns]\n",
        "\n",
        "# Save the trimmed dataset to a new CSV file\n",
        "essential_dataset.to_csv('/content/trimmed_dataset.csv', index=False)\n",
        "\n",
        "# Display the trimmed dataset\n",
        "print(essential_dataset.head())"
      ]
    },
    {
      "cell_type": "code",
      "source": [
        "import pandas as pd\n",
        "import random\n",
        "\n",
        "class PlayerGuesser:\n",
        "    def __init__(self, file_path):\n",
        "        self.dataset = pd.read_csv(file_path)\n",
        "        self.asked_questions = set()\n",
        "        self.path_taken = []\n",
        "        self.probably_players = set()\n",
        "\n",
        "    def ask_question(self, column, entry):\n",
        "        user_input = input(f\"Is the {column} of the player '{entry}'? (yes/no/probably(P)/probably-not(PN)/I don't know(idk))\").lower()\n",
        "\n",
        "        if user_input == 'yes':\n",
        "            self.filter_dataset(column, entry)\n",
        "        elif user_input == 'no':\n",
        "            self.filter_dataset(column, entry, exclude=True)\n",
        "        elif user_input == 'p':\n",
        "            self.probably_players.add(entry)\n",
        "        elif user_input == 'pn':\n",
        "            self.probably_not(column, entry)\n",
        "        elif user_input == 'idk':\n",
        "            print(f\"Don't you know? Let's skip it!!\")\n",
        "        else:\n",
        "            print(\"INVALID ENTRY!!! You have to enter either yes, no, maybe, maybenot, or I don't know (idk)\")\n",
        "\n",
        "        # Special handling for 'Preferred Foot' and 'Gender' columns\n",
        "        if column == 'Preferred Foot':\n",
        "            if user_input in ['left', 'right']:\n",
        "                self.filter_dataset(column, user_input, exclude=True)\n",
        "        elif column == 'Gender':\n",
        "            if user_input in ['m', 'f']:\n",
        "                self.filter_dataset(column, user_input, exclude=True)\n",
        "\n",
        "    def filter_dataset(self, column, entry, exclude=False):\n",
        "        filter_condition = (self.dataset[column] != entry) if exclude else (self.dataset[column] == entry)\n",
        "        self.dataset = self.dataset[filter_condition]\n",
        "\n",
        "    def probably_not(self, column, entry):\n",
        "        print(f\"You're not sure about '{column}' for '{entry}'. Let's proceed cautiously.\")\n",
        "        pass\n",
        "\n",
        "    def play_game(self):\n",
        "        for _ in range(20):\n",
        "            if len(self.dataset) == 1:\n",
        "                self.handle_prediction()\n",
        "                break\n",
        "            elif len(self.dataset) == 0:\n",
        "                print(\"Sorry Mate!!! No players match the criteria. Game over !!!\")\n",
        "                break\n",
        "\n",
        "            column, entry = self.choose_random_question()\n",
        "            self.ask_question(column, entry)\n",
        "\n",
        "        else:\n",
        "            self.make_best_guess()\n",
        "\n",
        "    def handle_prediction(self):\n",
        "        predicted_player = self.dataset.iloc[0]['Name']\n",
        "        print(f\"\\nPredicted player: {predicted_player}\")\n",
        "        user_feedback = input(\"Is this prediction correct? (yes/no) \").lower()\n",
        "\n",
        "        if user_feedback == 'yes':\n",
        "            print(\"Wohoo!!!! Great! Game over.\")\n",
        "        elif user_feedback == 'no':\n",
        "            self.analyze_and_learn()\n",
        "        else:\n",
        "            print(\"Something Fishy!!! Invalid response--->>>>>> Game over\")\n",
        "\n",
        "    def analyze_and_learn(self):\n",
        "        for path in reversed(self.path_taken):\n",
        "            self.filter_dataset(path[0], path[1], exclude=True)\n",
        "        self.asked_questions.clear()\n",
        "        self.path_taken.clear()\n",
        "\n",
        "    def choose_random_question(self):\n",
        "        valid_columns = [col for col in self.dataset.columns if col != 'Name']\n",
        "        column = random.choice(valid_columns)\n",
        "        entry = self.dataset[column].sample().iloc[0]\n",
        "\n",
        "        question = f\"Is the {column} of the player '{entry}'? (yes/no/maybe/maybenot/I don't know) \"\n",
        "\n",
        "        while question in self.asked_questions:\n",
        "            column = random.choice(valid_columns)\n",
        "            entry = self.dataset[column].sample().iloc[0]\n",
        "            question = f\"Is the {column} of the player '{entry}'? (yes/no/maybe/maybenot/I don't know) \"\n",
        "\n",
        "        self.asked_questions.add(question)\n",
        "        self.path_taken.append((column, entry))\n",
        "\n",
        "        return column, entry\n",
        "\n",
        "    def make_best_guess(self):\n",
        "        if len(self.dataset) > 0:\n",
        "            best_guess_player = self.dataset.iloc[0]['Name']\n",
        "            print(f\"\\nBest guess: {best_guess_player}\")\n",
        "\n",
        "if __name__ == \"__main__\":\n",
        "    file_path = '/content/trimmed_dataset.csv'\n",
        "    player_guesser = PlayerGuesser(file_path)\n",
        "    print(\">>>>--Welcome to AKINATORFC24--<<<<\")\n",
        "    print(\" In this game, you will be challenged to guess a football player based on a series of questions\")\n",
        "    print(\"Answer questions with (yes),(no),(P) for probably, (PN) for probably-not, or (idk) for I don't know.\")\n",
        "    print(\"                   Enjoy the Game!!!\")\n",
        "    player_guesser.play_game()\n"
      ],
      "metadata": {
        "colab": {
          "base_uri": "https://localhost:8080/"
        },
        "id": "uY3zHHTGCc_k",
        "outputId": "45264253-3f83-481b-9bd9-ea8f43ab7b2e"
      },
      "execution_count": null,
      "outputs": [
        {
          "output_type": "stream",
          "name": "stdout",
          "text": [
            ">>>>--Welcome to AKINATORFC24--<<<<\n",
            " In this game, you will be challenged to guess a football player based on a series of questions\n",
            "Answer questions with (yes),(no),(P) for probably, (PN) for probably-not, or (idk) for I don't know.\n",
            "                   Enjoy the Game!!!\n",
            "Is the Club of the player 'CD Tenerife'? (yes/no/probably(P)/probably-not(PN)/I don't know(idk))no\n",
            "Is the Gender of the player 'M'? (yes/no/probably(P)/probably-not(PN)/I don't know(idk))yes\n",
            "Is the Preferred foot of the player 'Left'? (yes/no/probably(P)/probably-not(PN)/I don't know(idk))idk\n",
            "Don't you know? Let's skip it!!\n",
            "Is the Position of the player 'CB'? (yes/no/probably(P)/probably-not(PN)/I don't know(idk))no\n",
            "Is the Nation of the player 'Spain'? (yes/no/probably(P)/probably-not(PN)/I don't know(idk))no\n",
            "Is the Age of the player '27'? (yes/no/probably(P)/probably-not(PN)/I don't know(idk))no\n",
            "Is the Club of the player 'Hannover 96'? (yes/no/probably(P)/probably-not(PN)/I don't know(idk))no\n",
            "Is the Position of the player 'GK'? (yes/no/probably(P)/probably-not(PN)/I don't know(idk))no\n",
            "Is the Position of the player 'ST'? (yes/no/probably(P)/probably-not(PN)/I don't know(idk))yes\n",
            "Is the Age of the player '19'? (yes/no/probably(P)/probably-not(PN)/I don't know(idk))no\n",
            "Is the Nation of the player 'Germany'? (yes/no/probably(P)/probably-not(PN)/I don't know(idk))no\n",
            "Is the Age of the player '29'? (yes/no/probably(P)/probably-not(PN)/I don't know(idk))no\n",
            "Is the Preferred foot of the player 'Right'? (yes/no/probably(P)/probably-not(PN)/I don't know(idk))yes\n",
            "Is the Nation of the player 'Serbia'? (yes/no/probably(P)/probably-not(PN)/I don't know(idk))no\n",
            "Is the Age of the player '33'? (yes/no/probably(P)/probably-not(PN)/I don't know(idk))no\n",
            "Is the Club of the player 'Frosinone'? (yes/no/probably(P)/probably-not(PN)/I don't know(idk))no\n",
            "Is the Nation of the player 'Venezuela'? (yes/no/probably(P)/probably-not(PN)/I don't know(idk))no\n",
            "Is the Age of the player '31'? (yes/no/probably(P)/probably-not(PN)/I don't know(idk))no\n",
            "Is the Nation of the player 'Turkey'? (yes/no/probably(P)/probably-not(PN)/I don't know(idk))no\n",
            "Is the Age of the player '21'? (yes/no/probably(P)/probably-not(PN)/I don't know(idk))no\n",
            "\n",
            "Best guess: Kylian Mbappé\n"
          ]
        }
      ]
    }
  ]
}